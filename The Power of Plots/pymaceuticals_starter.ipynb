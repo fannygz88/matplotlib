{
 "cells": [
  {
   "cell_type": "markdown",
   "metadata": {},
   "source": [
    "## Observations and Insights"
   ]
  },
  {
   "cell_type": "markdown",
   "metadata": {},
   "source": []
  },
  {
   "cell_type": "markdown",
   "metadata": {},
   "source": [
    "## Dependencies and starter code"
   ]
  },
  {
   "cell_type": "code",
   "execution_count": null,
   "metadata": {},
   "outputs": [],
   "source": [
    "# Dependencies and Setup\n",
    "import matplotlib.pyplot as plt\n",
    "import pandas as pd\n",
    "import scipy.stats as st\n",
    "import matplotlib as mpl\n",
    "import numpy as np\n",
    "\n",
    "#------- Format the graphics \n",
    "mpl.rcParams['font.size'] = 14\n",
    "\n",
    "#------- Format for the floats for this work\n",
    "pd.options.display.float_format = '{:,.2f}'.format\n",
    "# Study data files\n",
    "mouse_metadata = \"data/Mouse_metadata.csv\"\n",
    "study_results = \"data/Study_results.csv\"\n",
    "\n",
    "# Read the mouse data and the study results\n",
    "mouse_metadata = pd.read_csv(mouse_metadata)\n",
    "study_results = pd.read_csv(study_results)\n",
    "\n",
    "# Combine the data into a single dataset\n",
    "\n",
    "dataset=mouse_metadata.merge(study_results, on='Mouse ID',suffixes=('_metadata','_result'))\n",
    "\n",
    "\n",
    "display(dataset.head())"
   ]
  },
  {
   "cell_type": "markdown",
   "metadata": {},
   "source": [
    "## Summary statistics"
   ]
  },
  {
   "cell_type": "code",
   "execution_count": null,
   "metadata": {},
   "outputs": [],
   "source": [
    "# Generate a summary statistics table of mean, median, variance, standard deviation,\n",
    "# and SEM of the tumor volume for each regimen\n",
    "\n",
    "stats = dataset.groupby('Drug Regimen').describe()\n",
    "mean = dataset.groupby('Drug Regimen').mean()\n",
    "median = dataset.groupby('Drug Regimen').median()\n",
    "variance = dataset.groupby('Drug Regimen').var()\n",
    "stdeviation = dataset.groupby('Drug Regimen').std()\n",
    "sem = pd.DataFrame(dataset.groupby('Drug Regimen')['Tumor Volume (mm3)'].sem())\n",
    "#display(stats)\n",
    "\n",
    "display(mean)\n",
    "display(median)\n",
    "display(variance)\n",
    "display(stdeviation)\n",
    "display(sem)"
   ]
  },
  {
   "cell_type": "markdown",
   "metadata": {},
   "source": [
    "## Bar plots"
   ]
  },
  {
   "cell_type": "code",
   "execution_count": null,
   "metadata": {},
   "outputs": [],
   "source": [
    "# Generate a bar plot showing number of data points for each treatment regimen using pandas\n",
    "#dataset.plot.bar(x=)\n",
    "\n",
    "regimen=dataset.groupby('Drug Regimen')['Drug Regimen'].count()\n",
    "regimen.plot.bar(rot=45, color='#D8BFD8')\n",
    "\n",
    "#------Formatting ------\n",
    "\n",
    "plt.title('Mice used in each Drug Regimen')\n",
    "plt.ylabel('Number of Mice')\n",
    "plt.show()\n"
   ]
  },
  {
   "cell_type": "code",
   "execution_count": null,
   "metadata": {},
   "outputs": [],
   "source": [
    "# Generate a bar plot showing number of data points for each treatment regimen using pyplot\n",
    "py_drug = pd.DataFrame(regimen)\n",
    "py_drug.rename(columns={'Drug Regimen': \"Number of Mice\"}, inplace=True)\n",
    "py_drug.reset_index(inplace=True)\n",
    "\n",
    "plt.bar(py_drug['Drug Regimen'],py_drug['Number of Mice'], color='#87CEFA')\n",
    "\n",
    "#------ Formatting------\n",
    "\n",
    "plt.xticks(rotation=45)\n",
    "plt.title('Mice used in each Drug Regimen')\n",
    "plt.xlabel('Drug Regimen')\n",
    "plt.ylabel('Number of Mice')\n",
    "plt.show()"
   ]
  },
  {
   "cell_type": "markdown",
   "metadata": {},
   "source": [
    "## Pie plots"
   ]
  },
  {
   "cell_type": "code",
   "execution_count": null,
   "metadata": {},
   "outputs": [],
   "source": [
    "# Generate a pie plot showing the distribution of female versus male mice using pandas\n",
    "#Variables fot the pie chart\n",
    "colors={'#99ff99','#ffcc99'}\n",
    "explode=(0.05,0)\n",
    "\n",
    "#------ Plotting\n",
    "dataset['Sex'].value_counts().plot.pie(autopct='%1.1f%%',figsize=(5,5)\n",
    "                                       ,colors=colors,startangle=80, \n",
    "                                       explode=explode,shadow=True)\n",
    "#------ Formatting\n",
    "plt.axis('off')\n",
    "plt.title('Distribution of the Mice sex')\n",
    "plt.tight_layout()\n",
    "plt.show()"
   ]
  },
  {
   "cell_type": "code",
   "execution_count": null,
   "metadata": {},
   "outputs": [],
   "source": [
    "# Generate a pie plot showing the distribution of female versus male mice using pyplot\n",
    "#------ Crreating a DF with the sex of the mice\n",
    "gender=(pd.DataFrame(dataset['Sex'].value_counts())).reset_index()\n",
    "#------ Creating the parameters for the pie chart\n",
    "\n",
    "labels=gender['index']\n",
    "sizes=gender['Sex']\n",
    "colors={'#ff9999','#66b3ff'}\n",
    "explode=(0.05,0)\n",
    "\n",
    "#------ Plotting\n",
    "plt.pie(sizes,labels=labels,autopct='%1.1f%%',colors=colors,startangle=80, \n",
    "                                       explode=explode,shadow=True)\n",
    "\n",
    "#---- Formatting\n",
    "plt.title('Distribution of the Mice sex')\n",
    "plt.show()\n"
   ]
  },
  {
   "cell_type": "markdown",
   "metadata": {},
   "source": [
    "## Quartiles, outliers and boxplots"
   ]
  },
  {
   "cell_type": "markdown",
   "metadata": {},
   "source": [
    "In order to know the final tumor volumen for each mouse for the 4 most promising treatments, is mandatory to know which this proimising treatments are:\n",
    "\n",
    "--> It is necessary to know the total volumen for each Drug Regimen\n",
    "--> When we know our total volume, it it calculated the mean and standard deviation\n",
    "--> With this values calculated a range is created where the most promising traetments are located,\n",
    "    after that the data is sorted (ascending).\n",
    "    \n",
    "   "
   ]
  },
  {
   "cell_type": "code",
   "execution_count": null,
   "metadata": {},
   "outputs": [],
   "source": [
    "finalvol = (pd.DataFrame(dataset.groupby('Drug Regimen')['Tumor Volume (mm3)'].sum())\n",
    "           ).reset_index()\n",
    "#----- mean\n",
    "meanfinalvol = finalvol['Tumor Volume (mm3)'].mean()\n",
    "#------ standard deviation\n",
    "stdfinalvol = finalvol['Tumor Volume (mm3)'].std()\n",
    "#------ limit inferior\n",
    "st1 = meanfinalvol+stdfinalvol\n",
    "#------ limit superior\n",
    "st2 = meanfinalvol-stdfinalvol\n",
    "#------ filtering data\n",
    "promising = (finalvol.loc[(finalvol['Tumor Volume (mm3)'] >st2) &\n",
    "                          (finalvol['Tumor Volume (mm3)'] <st1)]).copy()\n",
    "#----- setting index wit the tumor volumne and sorting it\n",
    "promising.set_index('Drug Regimen',inplace=True)\n",
    "promising.sort_values('Tumor Volume (mm3)', inplace = True)\n",
    "\n",
    "display(promising)"
   ]
  },
  {
   "cell_type": "markdown",
   "metadata": {},
   "source": [
    "With the 4 most promising treatments known, the volume for each mouse used in this treatment is calculated."
   ]
  },
  {
   "cell_type": "code",
   "execution_count": null,
   "metadata": {},
   "outputs": [],
   "source": [
    "#------ Selecting the four most promising values\n",
    "four = promising.reset_index().iloc[0:4,0].values.tolist()\n",
    "\n",
    "#------ \n",
    "mice=pd.DataFrame(dataset.groupby(['Drug Regimen','Mouse ID'])['Tumor Volume (mm3)'].sum())\n",
    "total_mouse = mice[mice.index.get_level_values(0).isin(four)]\n",
    "\n",
    "\n",
    "display(total_mouse)\n"
   ]
  },
  {
   "cell_type": "markdown",
   "metadata": {},
   "source": [
    "### Determine the quartiles and IQR and quantitatively and if there are any potential outliers across all four treatment regimens."
   ]
  },
  {
   "cell_type": "code",
   "execution_count": null,
   "metadata": {},
   "outputs": [],
   "source": [
    "#---- Ramicane drug\n",
    "ramicane = dataset[dataset['Drug Regimen']==four[0]]\n",
    "\n",
    "rquartiles = ramicane['Tumor Volume (mm3)'].quantile([0.25,0.5,0.75])\n",
    "rlowerq = round(rquartiles[0.25],2)\n",
    "rupperq = round(rquartiles[0.75],2)\n",
    "riqr = round(rupperq - rlowerq,2)\n",
    "\n",
    "\n",
    "print(\"Ramicane\")\n",
    "print(\"--------------------------------------------------------------\")\n",
    "print(f\"The lower quartile of Ramicane is: {rlowerq}\")\n",
    "print(f\"The upper quartile of Ramicane is: {rupperq}\")\n",
    "print(f\"The interquartile range of Ramicane is: {riqr}\")\n",
    "print(f\"The the median of Ramicane is: {round(rquartiles[0.5],2)} \")\n",
    "\n",
    "rlower_bound = round(rlowerq - (1.5*riqr),2)\n",
    "rupper_bound = round(rupperq + (1.5*riqr),2)\n",
    "\n",
    "print(f\"Values below {rlower_bound} could be outliers.\")\n",
    "print(f\"Values above {rupper_bound} could be outliers.\")\n"
   ]
  },
  {
   "cell_type": "code",
   "execution_count": null,
   "metadata": {},
   "outputs": [],
   "source": [
    "#---- Capomulin drug\n",
    "capomulin = dataset[dataset['Drug Regimen']==four[1]]\n",
    "\n",
    "caquartiles = capomulin['Tumor Volume (mm3)'].quantile([0.25,0.5,0.75])\n",
    "calowerq = round(caquartiles[0.25],2)\n",
    "caupperq = round(caquartiles[0.75],2)\n",
    "caiqr = round(caupperq - calowerq,2)\n",
    "\n",
    "print(f\"The lower quartile of Capomulin is: {calowerq}\")\n",
    "print(f\"The upper quartile of Capomulin is: {caupperq}\")\n",
    "print(f\"The interquartile range of Capomulin is: {caiqr}\")\n",
    "print(f\"The the median of Capomulin is: {round(caquartiles[0.5],2)} \")\n",
    "\n",
    "calower_bound = round(calowerq - (1.5*riqr),2)\n",
    "caupper_bound = round(caupperq + (1.5*riqr),2)\n",
    "print(f\"\\nValues below {calower_bound} could be outliers.\")\n",
    "print(f\"Values above {caupper_bound} could be outliers.\")\n"
   ]
  },
  {
   "cell_type": "code",
   "execution_count": null,
   "metadata": {},
   "outputs": [],
   "source": [
    "#---- Ceftamin drug\n",
    "ceftamin = dataset[dataset['Drug Regimen']==four[2]]\n",
    "\n",
    "cequartiles = ceftamin['Tumor Volume (mm3)'].quantile([0.25,0.5,0.75])\n",
    "celowerq = round(cequartiles[0.25],2)\n",
    "ceupperq = round(cequartiles[0.75],2)\n",
    "ceiqr = round(ceupperq - celowerq,2)\n",
    "\n",
    "print(f\"The lower quartile of Ceftamin is: {celowerq}\")\n",
    "print(f\"The upper quartile of Ceftamin is: {ceupperq}\")\n",
    "print(f\"The interquartile range of Ceftamin is: {ceiqr}\")\n",
    "print(f\"The the median of Ceftamin is: {round(cequartiles[0.5],2)} \")\n",
    "\n",
    "celower_bound = round(celowerq - (1.5*ceiqr),2)\n",
    "ceupper_bound = round(ceupperq + (1.5*ceiqr),2)\n",
    "print(f\"\\nValues below {celower_bound} could be outliers.\")\n",
    "print(f\"Values above {ceupper_bound} could be outliers.\")"
   ]
  },
  {
   "cell_type": "code",
   "execution_count": null,
   "metadata": {},
   "outputs": [],
   "source": [
    "#---- Infubinol drug\n",
    "infubinol = dataset[dataset['Drug Regimen']==four[3]]\n",
    "\n",
    "inquartiles = infubinol['Tumor Volume (mm3)'].quantile([0.25,0.5,0.75])\n",
    "inlowerq = round(inquartiles[0.25],2)\n",
    "inupperq = round(inquartiles[0.75],2)\n",
    "iniqr = round(inupperq - inlowerq,2)\n",
    "\n",
    "print(f\"The lower quartile of Ceftamin is: {inlowerq}\")\n",
    "print(f\"The upper quartile of Ceftamin is: {inupperq}\")\n",
    "print(f\"The interquartile range of Ceftamin is: {iniqr}\")\n",
    "print(f\"The the median of Ceftamin is: {round(inquartiles[0.5],2)} \")\n",
    "\n",
    "inlower_bound = round(inlowerq - (1.5*iniqr),2)\n",
    "inupper_bound = round(inupperq + (1.5*iniqr),2)\n",
    "print(f\"\\nValues below {inlower_bound} could be outliers.\")\n",
    "print(f\"Values above {inupper_bound} could be outliers.\")"
   ]
  },
  {
   "cell_type": "markdown",
   "metadata": {},
   "source": [
    "### Box and whisker plot of the final tumor volume for all four treatment regimens"
   ]
  },
  {
   "cell_type": "code",
   "execution_count": null,
   "metadata": {},
   "outputs": [],
   "source": [
    "#------ Defining the variables to use in the boxplot\n",
    "rami = ramicane['Tumor Volume (mm3)']\n",
    "capo = capomulin['Tumor Volume (mm3)']\n",
    "cefta = ceftamin['Tumor Volume (mm3)']\n",
    "infu = infubinol['Tumor Volume (mm3)']\n",
    "\n",
    "#------ \n",
    "fig1, ax5 = plt.subplots()\n",
    "ax5.set_title('Drug Treatment')\n",
    "ax5.set_ylabel('Volumen')\n",
    "\n",
    "flierprops = dict(marker='o', markerfacecolor='#A30E64', markersize=8,\n",
    "                  linestyle='none', markeredgecolor='#F7EEF9')\n",
    "\n",
    "\n",
    "ax5.set_xticklabels(four)\n",
    "ax5.boxplot([rami,capo,cefta,infu], flierprops=flierprops, notch=True)\n",
    "\n",
    "\n",
    "plt.show()"
   ]
  },
  {
   "cell_type": "markdown",
   "metadata": {},
   "source": [
    "## Line and scatter plots"
   ]
  },
  {
   "cell_type": "code",
   "execution_count": null,
   "metadata": {},
   "outputs": [],
   "source": [
    "# Generate a line plot of time point versus tumor volume for a mouse treated with Capomulin\n",
    "\n",
    "#------ select all the mice use in capomulin drug test\n",
    "cap_mouse = capomulin['Mouse ID'].drop_duplicates().tolist()\n",
    "\n",
    "#------ cap_mouse -> returns 25 mice; \n",
    "#------ select a number between  0 an 24 to use a mouse in specific\n",
    "\n",
    "mouse_plot = cap_mouse[1]\n",
    "\n",
    "#------ Filter the information\n",
    "\n",
    "cap_data = capomulin.loc[(capomulin['Mouse ID'] == mouse_plot)]\n",
    "\n",
    "#----- create the x axis labels\n",
    "x_axis = cap_data['Timepoint'].tolist()\n",
    "\n",
    "#----- Plot the Time vs Tumor of the chosen mouse\n",
    "\n",
    "cap_data.plot(x = 'Timepoint', y = 'Tumor Volume (mm3)', kind = 'line',legend = False, \n",
    "              color = '#660033')\n",
    "\n",
    "#----- Formatting the plot\n",
    "plt.ylabel('Tumor Volume (mm3)')\n",
    "plt.xticks(x_axis)\n",
    "plt.legend(['Tumor Volumen change in time'], loc = 'best')\n",
    "plt.title(f'Timepoint vs Tumor Volume for mouse: {mouse_plot}')\n",
    "\n",
    "\n",
    "plt.show()\n"
   ]
  },
  {
   "cell_type": "code",
   "execution_count": null,
   "metadata": {},
   "outputs": [],
   "source": [
    "# Generate a scatter plot of mouse weight versus average tumor volume for the Capomulin regimen\n",
    "# Fixing random state for reproducibility\n",
    "\n",
    "w_t = (pd.DataFrame(capomulin.groupby('Weight (g)')['Tumor Volume (mm3)'].mean())).reset_index()\n",
    "X = w_t['Weight (g)']\n",
    "w_t.plot('Weight (g)', 'Tumor Volume (mm3)', kind = 'scatter', s=40,\n",
    "         c=np.random.rand(len(X),3), alpha = 0.65)\n",
    "plt.show()\n"
   ]
  },
  {
   "cell_type": "code",
   "execution_count": null,
   "metadata": {},
   "outputs": [],
   "source": [
    "# Calculate the correlation coefficient and linear regression model \n",
    "#for mouse weight and average tumor volume for the Capomulin regimen"
   ]
  },
  {
   "cell_type": "code",
   "execution_count": null,
   "metadata": {},
   "outputs": [],
   "source": []
  }
 ],
 "metadata": {
  "anaconda-cloud": {},
  "kernelspec": {
   "display_name": "Python 3",
   "language": "python",
   "name": "python3"
  },
  "language_info": {
   "codemirror_mode": {
    "name": "ipython",
    "version": 3
   },
   "file_extension": ".py",
   "mimetype": "text/x-python",
   "name": "python",
   "nbconvert_exporter": "python",
   "pygments_lexer": "ipython3",
   "version": "3.7.4"
  }
 },
 "nbformat": 4,
 "nbformat_minor": 2
}
